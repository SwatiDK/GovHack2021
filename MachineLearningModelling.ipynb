{
 "cells": [
  {
   "cell_type": "code",
   "execution_count": null,
   "metadata": {},
   "outputs": [],
   "source": [
    "# import python libraries\n",
    "\n",
    "import io\n",
    "import pandas as pd\n",
    "import numpy as np\n",
    "import sklearn\n",
    "from sklearn.preprocessing import StandardScaler\n",
    "import matplotlib.pyplot as plt\n",
    "\n",
    "from sklearn.cluster import Birch\n",
    "from sklearn.model_selection import train_test_split\n",
    "from sklearn.linear_model import LogisticRegression"
   ]
  },
  {
   "cell_type": "code",
   "execution_count": null,
   "metadata": {},
   "outputs": [],
   "source": [
    "# Reading merged featureset from csv\n",
    "\n",
    "df = pd.read_csv('merged_csv.csv')"
   ]
  },
  {
   "cell_type": "code",
   "execution_count": null,
   "metadata": {},
   "outputs": [],
   "source": [
    "# drop unnecessary columns\n",
    "df.drop(['Unnamed: 0', 'Suburb'], axis=1, inplace=True)\n",
    "\n",
    "df.drop(['TSN', 'Total', 'Not applicable'], axis=1, inplace=True)"
   ]
  },
  {
   "cell_type": "code",
   "execution_count": null,
   "metadata": {},
   "outputs": [],
   "source": [
    "# clustering for calculating the accessiblity levels\n",
    "\n",
    "X = df\n",
    "brc = Birch(n_clusters=3)\n",
    "brc.fit(X)\n",
    "scaler = StandardScaler()\n",
    "scaled_data = scaler.fit_transform(X) \n",
    "predictions=brc.predict(X)\n",
    "predictions"
   ]
  },
  {
   "cell_type": "code",
   "execution_count": null,
   "metadata": {},
   "outputs": [],
   "source": [
    "# adding predictions to dataframe\n",
    "\n",
    "brc_out_df = df.copy()\n",
    "\n",
    "brc_out_df['alevel'] = predictions\n",
    "\n",
    "brc_out_df.head()"
   ]
  },
  {
   "cell_type": "code",
   "execution_count": null,
   "metadata": {},
   "outputs": [],
   "source": [
    "df_out = pd.read_csv('merged_csv.csv')\n",
    "# drop unnecessary columns\n",
    "df_out.drop(['Unnamed: 0'], axis=1, inplace=True)\n",
    "\n",
    "df_out['aLevel'] = predictions"
   ]
  },
  {
   "cell_type": "code",
   "execution_count": null,
   "metadata": {},
   "outputs": [],
   "source": [
    "df_out.to_csv('./features_with_predictions.csv')\n",
    "\n",
    "y = df_out['aLevel'].values\n",
    "\n",
    "#X = df_out.loc['loc_counts','TSN','Total Spaces (car + motorcycle spaces) ','20-59years','Public Transport',\n",
    " #'Vehicle','Active Transport','Other Mode','Worked at home or Did not go to work',\n",
    " #'Mode not stated','aLevel']\n",
    "df_out.drop(['Suburb', 'Total','TSN','Mode not stated', 'aLevel','Not applicable'], axis=1, inplace=True)\n",
    "\n",
    "X = df_out\n",
    "\n",
    "X_train, X_test, y_train, y_test = train_test_split(X, y ,test_size = 0.25, random_state=42)\n",
    "\n",
    "X_train.shape, X_test.shape, y_train.shape, y_test.shape\n",
    "\n"
   ]
  },
  {
   "cell_type": "code",
   "execution_count": null,
   "metadata": {},
   "outputs": [],
   "source": [
    "#standardise\n",
    "scaler = StandardScaler()\n",
    "Xs_train = scaler.fit_transform(X_train) \n",
    "Xs_test = scaler.fit_transform(X_test) "
   ]
  },
  {
   "cell_type": "code",
   "execution_count": null,
   "metadata": {},
   "outputs": [],
   "source": [
    "# modeling of the data\n",
    "\n",
    "logr = LogisticRegression(random_state=42)\n",
    "\n",
    "\n",
    "logr.fit(Xs_train, y_train)\n",
    "\n",
    "logr_pred_prob = logr.predict_proba(Xs_test)\n",
    "\n",
    "y_pred_logr = logr.predict(Xs_test)\n",
    "\n",
    "logr_score = logr.score(Xs_test, y_test)\n",
    "logr_score\n",
    "\n",
    "# cm_logr = confusion_matrix(y_test, y_pred_logr)\n",
    "# cm_logr"
   ]
  },
  {
   "cell_type": "code",
   "execution_count": null,
   "metadata": {},
   "outputs": [],
   "source": [
    "#framing the variables and coefficients\n",
    "\n",
    "logr_coefs = pd.DataFrame({'variables': X_train.columns,\n",
    "                               '0_coef': logr.coef_[0],\n",
    "                           '0_abs_coef':np.abs(logr.coef_[0]),\n",
    "                            'coef': logr.coef_[1],\n",
    "                           'abs_coef':np.abs(logr.coef_[1]),  \n",
    "                             '2_coef': logr.coef_[2],\n",
    "                           '2_abs_coef':np.abs(logr.coef_[2])\n",
    "                           \n",
    "                           })\n",
    "\n",
    "\n",
    "# 0 lowest\n",
    "# 1 = Highest accessible by public\n",
    "# 2 medium\n",
    "logr_coefs"
   ]
  },
  {
   "cell_type": "code",
   "execution_count": null,
   "metadata": {},
   "outputs": [],
   "source": [
    "logr_coefs.to_csv('./logr_coefs.csv')"
   ]
  },
  {
   "cell_type": "code",
   "execution_count": null,
   "metadata": {},
   "outputs": [],
   "source": [
    "logr_coefs_2 = pd.DataFrame({'variables': X_train.columns,\n",
    "                            'coef': logr.coef_[2],\n",
    "                           'abs_coef':np.abs(logr.coef_[2])\n",
    "                           })\n",
    "\n",
    "logr_coefs_2"
   ]
  },
  {
   "cell_type": "code",
   "execution_count": null,
   "metadata": {},
   "outputs": [],
   "source": [
    "logr_coefs_0 = pd.DataFrame({'variables': X_train.columns,\n",
    "                            'coef': logr.coef_[0],\n",
    "                           'abs_coef':np.abs(logr.coef_[0])\n",
    "                           })\n",
    "\n",
    "logr_coefs_0"
   ]
  },
  {
   "cell_type": "code",
   "execution_count": null,
   "metadata": {},
   "outputs": [],
   "source": [
    "df1[df1['aLevel'] == 0].sort_values('loc_counts')"
   ]
  },
  {
   "cell_type": "code",
   "execution_count": null,
   "metadata": {},
   "outputs": [],
   "source": [
    "#  Feature contribution\n",
    "import seaborn as sns\n",
    "\n",
    "fig, (ax) = plt.subplots(nrows=1, ncols=1, figsize=(20,8))\n",
    "\n",
    "ax = sns.barplot(y = 'variables', x = 'coef', data = logr_coefs)\n",
    "ax.set_ylabel(' ')\n",
    "ax.set_title('Features by Logistic Coefficients')\n",
    "\n",
    "ax.grid(False)\n",
    "plt.show()"
   ]
  },
  {
   "cell_type": "code",
   "execution_count": null,
   "metadata": {},
   "outputs": [],
   "source": [
    "ax = plt.subplot(111)\n",
    "ax.bar(x-0.2, y, width=0.2, color='b', align='center')\n",
    "ax.bar(x, z, width=0.2, color='g', align='center')\n",
    "ax.bar(x+0.2, k, width=0.2, color='r', align='center')\n",
    "ax.xaxis_date()\n",
    "\n",
    "plt.show()"
   ]
  },
  {
   "cell_type": "code",
   "execution_count": null,
   "metadata": {},
   "outputs": [],
   "source": []
  },
  {
   "cell_type": "code",
   "execution_count": null,
   "metadata": {},
   "outputs": [],
   "source": []
  },
  {
   "cell_type": "code",
   "execution_count": null,
   "metadata": {},
   "outputs": [],
   "source": []
  },
  {
   "cell_type": "code",
   "execution_count": null,
   "metadata": {},
   "outputs": [],
   "source": []
  }
 ],
 "metadata": {
  "kernelspec": {
   "display_name": "Python 3",
   "language": "python",
   "name": "python3"
  },
  "language_info": {
   "codemirror_mode": {
    "name": "ipython",
    "version": 3
   },
   "file_extension": ".py",
   "mimetype": "text/x-python",
   "name": "python",
   "nbconvert_exporter": "python",
   "pygments_lexer": "ipython3",
   "version": "3.8.5"
  }
 },
 "nbformat": 4,
 "nbformat_minor": 4
}
