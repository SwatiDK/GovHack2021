{
 "cells": [
  {
   "cell_type": "code",
   "execution_count": null,
   "metadata": {},
   "outputs": [],
   "source": [
    "import pandas as pd\n",
    "from functools import reduce\n",
    "\n",
    "pd.set_option('display.max_columns', None)"
   ]
  },
  {
   "cell_type": "code",
   "execution_count": null,
   "metadata": {},
   "outputs": [],
   "source": [
    "# download csvs\n",
    "\n",
    "comm = pd.read_csv('./Commuter_Carparks.csv')\n",
    "locFac = pd.read_csv('./LocationFacilityData_v1.csv')\n",
    "working_age = pd.read_csv('./NSW_Subrubs_WorkingAge.csv')\n",
    "modeofwork = pd.read_csv('./NSW_suburbs_ModeOfWork.csv')"
   ]
  },
  {
   "cell_type": "code",
   "execution_count": null,
   "metadata": {},
   "outputs": [],
   "source": [
    "# cleaning csvs\n",
    "\n",
    "comm = comm.rename(columns={'Interchange Name': 'Suburb'})\n",
    "noOfStations = locFac.Suburb.value_counts().rename_axis('Suburb').reset_index(name='noOfStations')\n",
    "#print(noOfStations)\n",
    "locFac = locFac.Suburb.value_counts().rename_axis('TSN').reset_index(name='loc_counts')\n",
    "#print (locFac)\n",
    "comm.loc[comm.TSN == 'V17191','TSN'] = '17191'\n",
    "comm.reindex(comm.TSN.astype(int).sort_values().index)\n",
    "comm['TSN']=comm.TSN.astype('int64')\n",
    "\n",
    "working_age = working_age.rename(columns={'SSC (UR)': 'Suburb'})\n",
    "modeofwork = modeofwork.rename(columns={'SSC (UR)': 'Suburb'})"
   ]
  },
  {
   "cell_type": "code",
   "execution_count": null,
   "metadata": {},
   "outputs": [],
   "source": [
    "#merge all the dataframes based on SA2\n",
    "\n",
    "data_frames= [loc_count,comm,working_age,modeofwork ]\n",
    "df_merged_suburb = reduce(lambda  left,right: pd.merge(left,right,on=['Suburb'],\n",
    "                                            how='left'), data_frames)\n",
    "\n",
    "# replace the null with 0 which does not have transport data\n",
    "df_merged_suburb.fillna(0, inplace=True)\n",
    "\n",
    "# write to merged csv\n",
    "df_merged_suburb.to_csv('merged_csv.csv')"
   ]
  },
  {
   "cell_type": "code",
   "execution_count": null,
   "metadata": {},
   "outputs": [],
   "source": []
  },
  {
   "cell_type": "code",
   "execution_count": null,
   "metadata": {},
   "outputs": [],
   "source": []
  },
  {
   "cell_type": "code",
   "execution_count": null,
   "metadata": {},
   "outputs": [],
   "source": []
  }
 ],
 "metadata": {
  "kernelspec": {
   "display_name": "Python 3",
   "language": "python",
   "name": "python3"
  },
  "language_info": {
   "codemirror_mode": {
    "name": "ipython",
    "version": 3
   },
   "file_extension": ".py",
   "mimetype": "text/x-python",
   "name": "python",
   "nbconvert_exporter": "python",
   "pygments_lexer": "ipython3",
   "version": "3.8.5"
  }
 },
 "nbformat": 4,
 "nbformat_minor": 4
}
